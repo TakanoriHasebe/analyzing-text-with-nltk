{
 "cells": [
  {
   "cell_type": "markdown",
   "metadata": {},
   "source": [
    "### <font color='blue'>まとめ</font>"
   ]
  },
  {
   "cell_type": "markdown",
   "metadata": {},
   "source": [
    "<ul>\n",
    "<li>情報抽出システムは、サイズ制限のないテキストの巨大な文章から検索し、より構造化されたデータベースを構築する。</li>\n",
    "<li>典型的な情報システムのアーキテクチャでは、テキストの分割、トークン化、品詞タグ付けから処理が開始。</li>\n",
    "<li>固有表現認識についてはチャンカを使って処理されることが多い。</li>\n",
    "<li>チャンカを作成する際には、ルールベースのRegexpParserクラス、機械学習のConsecutiveNPChunkerが用いられる。</li>\n",
    "<li>チャンカは比較的平坦なデータ構造を生成することに特化。</li>\n",
    "<li>単語の関係抽出はルールベース、機械学習のシステムどちらでも可能。</li>\n",
    "</ul>"
   ]
  }
 ],
 "metadata": {
  "kernelspec": {
   "display_name": "Python 3",
   "language": "python",
   "name": "python3"
  },
  "language_info": {
   "codemirror_mode": {
    "name": "ipython",
    "version": 3
   },
   "file_extension": ".py",
   "mimetype": "text/x-python",
   "name": "python",
   "nbconvert_exporter": "python",
   "pygments_lexer": "ipython3",
   "version": "3.6.1"
  }
 },
 "nbformat": 4,
 "nbformat_minor": 2
}
