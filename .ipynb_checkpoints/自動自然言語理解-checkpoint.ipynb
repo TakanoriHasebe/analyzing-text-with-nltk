{
 "cells": [
  {
   "cell_type": "markdown",
   "metadata": {},
   "source": [
    "## <font color='blue'>自動自然言語理解について</font>"
   ]
  },
  {
   "cell_type": "markdown",
   "metadata": {},
   "source": [
    "ここでは、いくつかの言語理解の技術について解説を行う。"
   ]
  },
  {
   "cell_type": "markdown",
   "metadata": {},
   "source": [
    "### <font color='blue'>語義曖昧性解消</font>"
   ]
  },
  {
   "cell_type": "markdown",
   "metadata": {},
   "source": [
    "指定された文脈において、単語がどのような語義として使われているかを指定している。"
   ]
  },
  {
   "cell_type": "markdown",
   "metadata": {},
   "source": [
    "a. serve: 食べ物、飲み物を提供する。オフィスを構える。ボールを試合に投入する。<br>\n",
    "b. dish: 皿。食事のコース。通信装置。<br>"
   ]
  },
  {
   "cell_type": "markdown",
   "metadata": {},
   "source": [
    "he served the dish(彼は料理を給仕した)<br>\n",
    "たった 3 つの単語しかないのに、話題 がスポーツに関することから陶器に関する話題に移ったとは考えにくい<br>\n",
    "近接する単語が意味的に強く関連するという単純な 事実を利用して、単語の曖昧さを文脈から自動的に解消している。<br>"
   ]
  },
  {
   "cell_type": "markdown",
   "metadata": {},
   "source": [
    "### <font color='blue'>代名詞解消</font>"
   ]
  },
  {
   "cell_type": "markdown",
   "metadata": {},
   "source": [
    "「誰が何を誰に行っ たか」といったことの分析<br>\n",
    "思ったより も難しい<br>"
   ]
  },
  {
   "cell_type": "markdown",
   "metadata": {},
   "source": [
    "3つの文を見て、それぞれ「売られた」「捕まった」「見つかった」のがなんなのかを言い当ててほしい<br>"
   ]
  },
  {
   "cell_type": "markdown",
   "metadata": {},
   "source": [
    "a. The thieves stole the paintings. They were subsequently sold.<br>\n",
    "   (泥棒達が絵画を盗んだ。そしてその後(それら・彼ら)は売り払われた)<br>\n",
    "b. The thieves stole the paintings. They were subsequently caught.<br>\n",
    "   (泥棒達が絵画を盗んだ。そしてその後(それら・彼ら)は捕まった)<br>\n",
    "c. The thieves stole the paintings. They were subsequently found.<br>\n",
    "   (泥棒達が絵画を盗んだ。そしてその後(それら・彼ら)は発見された)<br>"
   ]
  },
  {
   "cell_type": "markdown",
   "metadata": {},
   "source": [
    "上記の質問に答えるには、代名詞「they」の先行詞が「thieves(泥棒達)」であるか「paintings(絵画)」であるかを決定しなければならない。<br>"
   ]
  },
  {
   "cell_type": "markdown",
   "metadata": {},
   "source": [
    "この問題に取り組む計算的手法は照応解析(代名詞や名詞句が何を示しているかを特定すること)<br>\n",
    "意味役割付与(名詞句がどのように動詞と関係してい るか、動作主なのか、対象なのか、手段なのか、などを特定すること)を含んでいる。<br>"
   ]
  },
  {
   "cell_type": "markdown",
   "metadata": {},
   "source": [
    "### <font color='blue'>言語出力の生成</font>"
   ]
  },
  {
   "cell_type": "markdown",
   "metadata": {},
   "source": [
    "質問応答と機械翻訳が存在している。<br>"
   ]
  },
  {
   "cell_type": "markdown",
   "metadata": {},
   "source": [
    "実用的な翻訳システムが存在するが、いくつかの重大な欠点が存在する。<br>\n",
    "その欠点について、NLTKの助けを借りて説明する<br>\n",
    "p.32, 33を参照<br>"
   ]
  },
  {
   "cell_type": "markdown",
   "metadata": {},
   "source": [
    "機械翻訳が難しいのは<br>\n",
    "与えられた単語それぞれが(意味に依存して)複数の語への翻訳が可能で あること<br>\n",
    "翻訳先の言語の文法構造を維持するために語順の変更をしなければならない<br>"
   ]
  },
  {
   "cell_type": "markdown",
   "metadata": {},
   "source": [
    "### <font color='blue'>音声対話システム</font>"
   ]
  },
  {
   "cell_type": "markdown",
   "metadata": {},
   "source": [
    "システムが答えを返せるのは、必要な情報がシステムに保持<br>\n",
    "言語処理システムに適切な質問と解答の組み合わせが組み込まれている場合<br>"
   ]
  },
  {
   "cell_type": "markdown",
   "metadata": {},
   "source": [
    "nltk.chat.chatbots()でNLTKのチャットボットと会話可能。<br>"
   ]
  },
  {
   "cell_type": "markdown",
   "metadata": {},
   "source": [
    "### <font color='blue'>含意関係</font>"
   ]
  },
  {
   "cell_type": "markdown",
   "metadata": {},
   "source": [
    "含意関係認識は仮説 を証明する証拠を発見したいと仮定する。"
   ]
  },
  {
   "cell_type": "markdown",
   "metadata": {},
   "source": [
    "１つ目のテキスト<br>\n",
    "「Sandra Goudie was defeated by Max Purnel(l サン ドラ・グーディはマックス・パーネルに敗北した)」というテキスト<br>"
   ]
  },
  {
   "cell_type": "markdown",
   "metadata": {},
   "source": [
    "2つ目のテキスト<br>\n",
    "Sandra Goudie was first elected to Parliament in the 2002 elections, narrowly winning<br>\n",
    "the seat of Coromadel by defeating Labour candidate Max Purnell and pushing<br>\n",
    "incumbent Green MP Jeanette Fitzsimons into third place<br>\n",
    " サンドラ・グーディは 2002 年の選挙で、労働党の候補者マックス・パーネルを破り<br>\n",
    " 緑の党の議員ジャネット・フィッ ツサイモンズを 3 位に押しやることで、コロマンデルの議席を辛くも勝ち取り、<br>\n",
    " 初めて議 会に選出された<br>"
   ]
  },
  {
   "cell_type": "markdown",
   "metadata": {},
   "source": [
    "このテキストは仮説を受け入れるに十分な証拠となるだろうか。この例の場合では、その答えは 「いいえ」<br>\n",
    "人間がこの結論を導き出すのは簡単<br>\n",
    "だが、機械が決定するのはとても難しい<br>"
   ]
  },
  {
   "cell_type": "markdown",
   "metadata": {},
   "source": [
    "力業の機械学習テクニックを用いるのには十分ではない。<br>\n",
    "そこで、何らかの言語的解析を行う必要が出てくる。<br>"
   ]
  },
  {
   "cell_type": "markdown",
   "metadata": {},
   "source": [
    "### <font color='blue'>NLP の限界</font>"
   ]
  },
  {
   "cell_type": "markdown",
   "metadata": {},
   "source": [
    "現実世界のアプリケーションに適 用された自然言語システムは<br>\n",
    "常識的な応答を行ったり、世界認識をしっかりと描写することなどは今のところできない。<br>"
   ]
  },
  {
   "cell_type": "markdown",
   "metadata": {},
   "source": [
    "したがって、NLP の研究の重要なゴールは最初から<br>\n",
    "制限のない知識や推論の能力の代わりに表層的だがパワフルなテクニックを使って「言語を理解す る」技術の構築<br>"
   ]
  },
  {
   "cell_type": "code",
   "execution_count": null,
   "metadata": {
    "collapsed": true
   },
   "outputs": [],
   "source": []
  }
 ],
 "metadata": {
  "kernelspec": {
   "display_name": "Python 3",
   "language": "python",
   "name": "python3"
  },
  "language_info": {
   "codemirror_mode": {
    "name": "ipython",
    "version": 3
   },
   "file_extension": ".py",
   "mimetype": "text/x-python",
   "name": "python",
   "nbconvert_exporter": "python",
   "pygments_lexer": "ipython3",
   "version": "3.5.2"
  }
 },
 "nbformat": 4,
 "nbformat_minor": 2
}
