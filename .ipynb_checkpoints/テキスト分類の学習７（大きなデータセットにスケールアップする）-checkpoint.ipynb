{
 "cells": [
  {
   "cell_type": "markdown",
   "metadata": {},
   "source": [
    "大量の訓練データやたくさんの素性を使って分類器を訓練しようとしているなら<br>\n",
    "他の機械学習パッケージにアクセスできる、NLTKのインターフェース機能を調べるべきである。<br>"
   ]
  },
  {
   "cell_type": "markdown",
   "metadata": {},
   "source": [
    "以下のURLがそのパッケージになる。<br>\n",
    "http://www.nltk.org/search.html?q=machine+learning+library&check_keywords=yes&area=default"
   ]
  }
 ],
 "metadata": {
  "kernelspec": {
   "display_name": "Python 3",
   "language": "python",
   "name": "python3"
  },
  "language_info": {
   "codemirror_mode": {
    "name": "ipython",
    "version": 3
   },
   "file_extension": ".py",
   "mimetype": "text/x-python",
   "name": "python",
   "nbconvert_exporter": "python",
   "pygments_lexer": "ipython3",
   "version": "3.6.1"
  }
 },
 "nbformat": 4,
 "nbformat_minor": 2
}
