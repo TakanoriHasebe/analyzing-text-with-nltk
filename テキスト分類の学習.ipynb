{
 "cells": [
  {
   "cell_type": "markdown",
   "metadata": {},
   "source": [
    "この章の目的は以下のことに答えるためである。<br>\n",
    "<ol>\n",
    "<li>言語データを分類するにあたって、それぞれの顕著な特徴を発見する方法</li>\n",
    "<li>言語処理のタスクを自動的にこなす、言語モデルの構築</li>\n",
    "<li>そのモデルから言語に関する何を学ぶことができるか</li>\n",
    "</ol>"
   ]
  },
  {
   "cell_type": "markdown",
   "metadata": {
    "collapsed": true
   },
   "source": [
    "上記を見ていく過程で<br>\n",
    "<ul>\n",
    "<li>決定木</li>\n",
    "<li>単純ベイズ分類器</li>\n",
    "<li>最大エントロピー分類器</li>\n",
    "</ul>\n",
    "などの、いくつかの重要な機械学習のテクニックをみることができる。<br>"
   ]
  },
  {
   "cell_type": "markdown",
   "metadata": {},
   "source": [
    "### <font color='blue'>教師あり学習</font>"
   ]
  },
  {
   "cell_type": "code",
   "execution_count": null,
   "metadata": {
    "collapsed": true
   },
   "outputs": [],
   "source": []
  }
 ],
 "metadata": {
  "kernelspec": {
   "display_name": "Python 3",
   "language": "python",
   "name": "python3"
  },
  "language_info": {
   "codemirror_mode": {
    "name": "ipython",
    "version": 3
   },
   "file_extension": ".py",
   "mimetype": "text/x-python",
   "name": "python",
   "nbconvert_exporter": "python",
   "pygments_lexer": "ipython3",
   "version": "3.6.1"
  }
 },
 "nbformat": 4,
 "nbformat_minor": 2
}
