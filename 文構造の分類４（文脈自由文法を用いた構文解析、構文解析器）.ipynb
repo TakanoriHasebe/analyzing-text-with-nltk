{
 "cells": [
  {
   "cell_type": "markdown",
   "metadata": {},
   "source": [
    "### <font color='blue'>構文解析器</font>"
   ]
  },
  {
   "cell_type": "markdown",
   "metadata": {},
   "source": [
    "構文解析器は、文法の生成規則にしたがって入力文を処理する。<br>\n",
    "そして、文法に沿った１つ以上の構成素構造を作り上げる。<br>"
   ]
  },
  {
   "cell_type": "markdown",
   "metadata": {},
   "source": [
    "構文解析器を用いることによって、文法をテスト用の文の集合に対して正しく評価可能。<br>\n",
    "それによって、言語学者は文法的解析による誤りを見つけやすくする。<br>"
   ]
  }
 ],
 "metadata": {
  "kernelspec": {
   "display_name": "Python 3",
   "language": "python",
   "name": "python3"
  },
  "language_info": {
   "codemirror_mode": {
    "name": "ipython",
    "version": 3
   },
   "file_extension": ".py",
   "mimetype": "text/x-python",
   "name": "python",
   "nbconvert_exporter": "python",
   "pygments_lexer": "ipython3",
   "version": "3.6.1"
  }
 },
 "nbformat": 4,
 "nbformat_minor": 2
}
